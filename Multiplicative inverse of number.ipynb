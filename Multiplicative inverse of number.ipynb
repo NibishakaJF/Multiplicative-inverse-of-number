{
 "cells": [
  {
   "cell_type": "markdown",
   "id": "fdb5550a",
   "metadata": {},
   "source": [
    "The multiplicative inverse of a number $x$ is given by $x^{-1}$, such that when it is multiplied by its original number, it results in value equal to $1$. it depends on the moduls we are working on."
   ]
  },
  {
   "cell_type": "code",
   "execution_count": 1,
   "id": "e3f563a2",
   "metadata": {},
   "outputs": [
    {
     "name": "stdout",
     "output_type": "stream",
     "text": [
      "Enter a number: 7\n",
      "Enter a modulo: 26\n",
      "The multiplicative inverse of 7 in modulo 26 is 15\n"
     ]
    }
   ],
   "source": [
    "def extended_euclidean_algorithm(a, b):\n",
    "    \"\"\"Returns the greatest common divisor (gcd) of a and b, and the Bezout coefficients x and y\n",
    "    such that ax + by = gcd(a, b).\n",
    "    \"\"\"\n",
    "    if a == 0:\n",
    "        return b, 0, 1\n",
    "    else:\n",
    "        gcd, x, y = extended_euclidean_algorithm(b % a, a)\n",
    "        return gcd, y - (b // a) * x, x\n",
    "\n",
    "# Get user input\n",
    "num = int(input(\"Enter a number: \"))\n",
    "modulo = int(input(\"Enter a modulo: \"))\n",
    "\n",
    "# Find multiplicative inverse\n",
    "gcd, x, _ = extended_euclidean_algorithm(num, modulo)\n",
    "if gcd == 1:\n",
    "    inverse = x % modulo\n",
    "    print(\"The multiplicative inverse of\", num, \"in modulo\", modulo, \"is\", inverse)\n",
    "else:\n",
    "    print(\"The multiplicative inverse of\", num, \"in modulo\", modulo, \"does not exist.\")\n"
   ]
  },
  {
   "cell_type": "markdown",
   "id": "bc9a14a1",
   "metadata": {},
   "source": [
    "The program prompts the user to enter a number.\n",
    "<br>\n",
    "The user inputs a number.\n",
    "<br>\n",
    "The program prompts the user to enter a modulo.\n",
    "<br>\n",
    "The user inputs a modulo.\n",
    "<br>\n",
    "The program calls the extended_euclidean_algorithm function with the user's number and modulo as arguments.\n",
    "<br>\n",
    "The function calculates the greatest common divisor $(gcd)$ and the Bezout coefficients $x$ and $y$ such that $ax + by = gcd(a, b)$.\n",
    "<br>\n",
    "The program checks if the gcd is equal to $1$. If it is, then the multiplicative inverse of the user's number in the given modulo exists.\n",
    "<br>\n",
    "The program calculates the multiplicative inverse as x mod modulo and prints it to the console.\n",
    "<br>\n",
    "If the gcd is not equal to $1$, then the multiplicative inverse does not exist and the program prints a message to the console indicating this."
   ]
  },
  {
   "cell_type": "code",
   "execution_count": null,
   "id": "e799e242",
   "metadata": {},
   "outputs": [],
   "source": []
  }
 ],
 "metadata": {
  "kernelspec": {
   "display_name": "Python 3 (ipykernel)",
   "language": "python",
   "name": "python3"
  },
  "language_info": {
   "codemirror_mode": {
    "name": "ipython",
    "version": 3
   },
   "file_extension": ".py",
   "mimetype": "text/x-python",
   "name": "python",
   "nbconvert_exporter": "python",
   "pygments_lexer": "ipython3",
   "version": "3.9.12"
  }
 },
 "nbformat": 4,
 "nbformat_minor": 5
}
